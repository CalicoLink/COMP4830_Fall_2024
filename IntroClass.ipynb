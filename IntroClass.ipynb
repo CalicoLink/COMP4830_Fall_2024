{
  "nbformat": 4,
  "nbformat_minor": 0,
  "metadata": {
    "colab": {
      "provenance": [],
      "authorship_tag": "ABX9TyOJfUWlJ50l/FEjkZ5mvLkY",
      "include_colab_link": true
    },
    "kernelspec": {
      "name": "python3",
      "display_name": "Python 3"
    },
    "language_info": {
      "name": "python"
    }
  },
  "cells": [
    {
      "cell_type": "markdown",
      "metadata": {
        "id": "view-in-github",
        "colab_type": "text"
      },
      "source": [
        "<a href=\"https://colab.research.google.com/github/CalicoLink/COMP4830_Fall_2024/blob/main/IntroClass.ipynb\" target=\"_parent\"><img src=\"https://colab.research.google.com/assets/colab-badge.svg\" alt=\"Open In Colab\"/></a>"
      ]
    },
    {
      "cell_type": "code",
      "execution_count": 4,
      "metadata": {
        "id": "sD1apa2LVhp5"
      },
      "outputs": [],
      "source": [
        "s = \"Hello World!\""
      ]
    },
    {
      "cell_type": "code",
      "source": [
        "print(s)"
      ],
      "metadata": {
        "colab": {
          "base_uri": "https://localhost:8080/"
        },
        "id": "NGkf-XgCWOqW",
        "outputId": "0b315ee4-8cd1-450d-b651-340276208972"
      },
      "execution_count": 5,
      "outputs": [
        {
          "output_type": "stream",
          "name": "stdout",
          "text": [
            "Hello World!\n"
          ]
        }
      ]
    },
    {
      "cell_type": "markdown",
      "source": [
        "Memory and variables are accessible accross cells\n",
        "\n",
        "When you finish a code block with a math operation, it prints the result for you."
      ],
      "metadata": {
        "id": "GP-jlp7fWHUQ"
      }
    },
    {
      "cell_type": "code",
      "source": [
        "x = 3\n",
        "y = 2\n",
        "\n",
        "x ** y # exponent"
      ],
      "metadata": {
        "colab": {
          "base_uri": "https://localhost:8080/"
        },
        "id": "RYGDwt9XWnGz",
        "outputId": "a2101e92-4706-4116-f861-1982416fe239"
      },
      "execution_count": 6,
      "outputs": [
        {
          "output_type": "execute_result",
          "data": {
            "text/plain": [
              "9"
            ]
          },
          "metadata": {},
          "execution_count": 6
        }
      ]
    },
    {
      "cell_type": "code",
      "source": [
        "x // y # floor division"
      ],
      "metadata": {
        "colab": {
          "base_uri": "https://localhost:8080/"
        },
        "id": "cH6dSQnoXCuB",
        "outputId": "ad02f057-5588-4e0d-dc12-0711449dd6f4"
      },
      "execution_count": 7,
      "outputs": [
        {
          "output_type": "execute_result",
          "data": {
            "text/plain": [
              "1"
            ]
          },
          "metadata": {},
          "execution_count": 7
        }
      ]
    },
    {
      "cell_type": "code",
      "source": [
        "s[3]"
      ],
      "metadata": {
        "colab": {
          "base_uri": "https://localhost:8080/",
          "height": 35
        },
        "id": "pSXDC_-AXFcG",
        "outputId": "69d8b68c-4b21-4094-8b7c-eb5397e3c4ba"
      },
      "execution_count": 9,
      "outputs": [
        {
          "output_type": "execute_result",
          "data": {
            "text/plain": [
              "'l'"
            ],
            "application/vnd.google.colaboratory.intrinsic+json": {
              "type": "string"
            }
          },
          "metadata": {},
          "execution_count": 9
        }
      ]
    },
    {
      "cell_type": "code",
      "source": [
        "a = [1, 2, 3, 4, 5] # list"
      ],
      "metadata": {
        "id": "9rHgIZUwXVDs"
      },
      "execution_count": 10,
      "outputs": []
    },
    {
      "cell_type": "code",
      "source": [
        "len(a)"
      ],
      "metadata": {
        "colab": {
          "base_uri": "https://localhost:8080/"
        },
        "id": "Q5oPJDEAXhCR",
        "outputId": "d755e07a-8d51-4122-f650-6177da645a5d"
      },
      "execution_count": 11,
      "outputs": [
        {
          "output_type": "execute_result",
          "data": {
            "text/plain": [
              "5"
            ]
          },
          "metadata": {},
          "execution_count": 11
        }
      ]
    },
    {
      "cell_type": "code",
      "source": [
        "a.append(6)\n",
        "a"
      ],
      "metadata": {
        "colab": {
          "base_uri": "https://localhost:8080/"
        },
        "id": "GyzT9YKvXlC5",
        "outputId": "bac175cb-6b9a-485a-9e99-c437e9d8949b"
      },
      "execution_count": 13,
      "outputs": [
        {
          "output_type": "execute_result",
          "data": {
            "text/plain": [
              "[1, 2, 3, 4, 5, 6, 6]"
            ]
          },
          "metadata": {},
          "execution_count": 13
        }
      ]
    },
    {
      "cell_type": "code",
      "source": [
        "b = [1,2,3,\"hello\",\"world\"] # lists do not need to be the same type"
      ],
      "metadata": {
        "id": "jxb_OZTvXp7x"
      },
      "execution_count": 14,
      "outputs": []
    },
    {
      "cell_type": "code",
      "source": [
        "b[3]"
      ],
      "metadata": {
        "colab": {
          "base_uri": "https://localhost:8080/",
          "height": 35
        },
        "id": "OonDq56gX5JQ",
        "outputId": "0912d844-6c05-4a37-8b00-2c5916a85b29"
      },
      "execution_count": 16,
      "outputs": [
        {
          "output_type": "execute_result",
          "data": {
            "text/plain": [
              "'hello'"
            ],
            "application/vnd.google.colaboratory.intrinsic+json": {
              "type": "string"
            }
          },
          "metadata": {},
          "execution_count": 16
        }
      ]
    },
    {
      "cell_type": "code",
      "source": [
        "type(b[4])"
      ],
      "metadata": {
        "colab": {
          "base_uri": "https://localhost:8080/"
        },
        "id": "2Qj1Xpk0YDBL",
        "outputId": "314d1a6e-f9ae-4791-8ee2-764ef19964bd"
      },
      "execution_count": 17,
      "outputs": [
        {
          "output_type": "execute_result",
          "data": {
            "text/plain": [
              "str"
            ]
          },
          "metadata": {},
          "execution_count": 17
        }
      ]
    },
    {
      "cell_type": "code",
      "source": [
        "c = (1,2,3) # tuples, can contain multiple or just one item"
      ],
      "metadata": {
        "id": "fQo8ZHP4YHou"
      },
      "execution_count": 19,
      "outputs": []
    },
    {
      "cell_type": "code",
      "source": [
        "d = (4,) # this is a single item tuple"
      ],
      "metadata": {
        "id": "cLmcFu66YPpN"
      },
      "execution_count": 20,
      "outputs": []
    },
    {
      "cell_type": "code",
      "source": [
        "grades = {\"john\":95, \"jacob\":70} # can create dictionaries (hash maps)"
      ],
      "metadata": {
        "id": "RqleDkotYXpr"
      },
      "execution_count": 21,
      "outputs": []
    },
    {
      "cell_type": "code",
      "source": [
        "# can index a dictionary using the unique key to get the value\n",
        "grades['john']"
      ],
      "metadata": {
        "colab": {
          "base_uri": "https://localhost:8080/"
        },
        "id": "hhEuUg0GYqng",
        "outputId": "28ce3a52-b986-4988-9b7c-06c8be7ac88c"
      },
      "execution_count": 22,
      "outputs": [
        {
          "output_type": "execute_result",
          "data": {
            "text/plain": [
              "95"
            ]
          },
          "metadata": {},
          "execution_count": 22
        }
      ]
    },
    {
      "cell_type": "code",
      "source": [
        "# can add a value pair (if an existing key is in the brackets, it will update its value)\n",
        "grades[\"susan\"] = 80"
      ],
      "metadata": {
        "id": "0MaoTiH0Y2Tk"
      },
      "execution_count": 23,
      "outputs": []
    },
    {
      "cell_type": "code",
      "source": [
        "grades"
      ],
      "metadata": {
        "colab": {
          "base_uri": "https://localhost:8080/"
        },
        "id": "2a9pM0q9Y-ha",
        "outputId": "a71b1661-838a-48d2-f5e1-9e2e49beaf5d"
      },
      "execution_count": 24,
      "outputs": [
        {
          "output_type": "execute_result",
          "data": {
            "text/plain": [
              "{'john': 95, 'jacob': 70, 'susan': 80}"
            ]
          },
          "metadata": {},
          "execution_count": 24
        }
      ]
    },
    {
      "cell_type": "code",
      "source": [
        "# can create sets to perform set operations\n",
        "e = {1,2,3,4}\n",
        "f = {3,4,5,6}\n",
        "print(e.union(f))\n",
        "print(e.intersection(f))"
      ],
      "metadata": {
        "colab": {
          "base_uri": "https://localhost:8080/"
        },
        "id": "wXeiJCxbY_2Z",
        "outputId": "eb70f601-1446-46aa-f3b9-e59e48d231e6"
      },
      "execution_count": 28,
      "outputs": [
        {
          "output_type": "stream",
          "name": "stdout",
          "text": [
            "{1, 2, 3, 4, 5, 6}\n",
            "{3, 4}\n"
          ]
        }
      ]
    },
    {
      "cell_type": "code",
      "source": [
        "grade = 85\n",
        "\n",
        "if grade >= 90:\n",
        "  print(\"A\")\n",
        "elif grade <90 and grade >= 80:\n",
        "  print(\"B\")\n",
        "else:\n",
        "  print(\"Could be better\")"
      ],
      "metadata": {
        "colab": {
          "base_uri": "https://localhost:8080/"
        },
        "id": "Il7XoH7lZsT5",
        "outputId": "389644b9-39ae-4237-fec0-543775c5339e"
      },
      "execution_count": 30,
      "outputs": [
        {
          "output_type": "stream",
          "name": "stdout",
          "text": [
            "B\n"
          ]
        }
      ]
    },
    {
      "cell_type": "code",
      "source": [
        "i = 0\n",
        "while i < 4:\n",
        "  print(i)\n",
        "  i+=1"
      ],
      "metadata": {
        "colab": {
          "base_uri": "https://localhost:8080/"
        },
        "id": "N36-wo6TaFvg",
        "outputId": "41e66120-126c-4606-a271-7d4f39200915"
      },
      "execution_count": 31,
      "outputs": [
        {
          "output_type": "stream",
          "name": "stdout",
          "text": [
            "0\n",
            "1\n",
            "2\n",
            "3\n"
          ]
        }
      ]
    },
    {
      "cell_type": "code",
      "source": [
        "# for loops in Python are pretty much for each loops\n",
        "for i in range(5):\n",
        "  print(i)"
      ],
      "metadata": {
        "colab": {
          "base_uri": "https://localhost:8080/"
        },
        "id": "lieh7NVdaOAX",
        "outputId": "d3c3be13-3bd7-4f90-b64d-f12ec9ea6fee"
      },
      "execution_count": 32,
      "outputs": [
        {
          "output_type": "stream",
          "name": "stdout",
          "text": [
            "0\n",
            "1\n",
            "2\n",
            "3\n",
            "4\n"
          ]
        }
      ]
    },
    {
      "cell_type": "code",
      "source": [
        "# can also loop (iterate through) items in a list\n",
        "for i in [2,3,5,9]:\n",
        "  print(i)"
      ],
      "metadata": {
        "colab": {
          "base_uri": "https://localhost:8080/"
        },
        "id": "25t_OLGKaW83",
        "outputId": "6bb9dbf3-56a8-4ba7-d862-85047b4636f2"
      },
      "execution_count": 34,
      "outputs": [
        {
          "output_type": "stream",
          "name": "stdout",
          "text": [
            "2\n",
            "3\n",
            "5\n",
            "9\n"
          ]
        }
      ]
    },
    {
      "cell_type": "code",
      "source": [
        "for i in range(2,10,3):\n",
        "  print(i)"
      ],
      "metadata": {
        "colab": {
          "base_uri": "https://localhost:8080/"
        },
        "id": "_get3YHDako7",
        "outputId": "a2156ae8-8cf4-4f4c-bf33-bf96bb0aa2d8"
      },
      "execution_count": 39,
      "outputs": [
        {
          "output_type": "stream",
          "name": "stdout",
          "text": [
            "2\n",
            "5\n",
            "8\n"
          ]
        }
      ]
    },
    {
      "cell_type": "code",
      "source": [
        "def myfunc(a):\n",
        "  return a*a"
      ],
      "metadata": {
        "id": "2k0ItsADa0Md"
      },
      "execution_count": 40,
      "outputs": []
    },
    {
      "cell_type": "code",
      "source": [
        "myfunc(3)"
      ],
      "metadata": {
        "colab": {
          "base_uri": "https://localhost:8080/"
        },
        "id": "nTC1BDLla-Xf",
        "outputId": "f949c126-ca07-4fa7-e937-021201f699ad"
      },
      "execution_count": 41,
      "outputs": [
        {
          "output_type": "execute_result",
          "data": {
            "text/plain": [
              "9"
            ]
          },
          "metadata": {},
          "execution_count": 41
        }
      ]
    },
    {
      "cell_type": "code",
      "source": [
        "# can return multiple values from a single function\n",
        "def myfunc2(a):\n",
        "  return a, a*a"
      ],
      "metadata": {
        "id": "YTH1p_s8bEsf"
      },
      "execution_count": 42,
      "outputs": []
    },
    {
      "cell_type": "code",
      "source": [
        "b, b2 = myfunc2(4)\n",
        "print(b)\n",
        "print(b2)"
      ],
      "metadata": {
        "colab": {
          "base_uri": "https://localhost:8080/"
        },
        "id": "VNFop0OtbTGw",
        "outputId": "da73fc0f-e1c2-49a9-b070-3e32c706a271"
      },
      "execution_count": 44,
      "outputs": [
        {
          "output_type": "stream",
          "name": "stdout",
          "text": [
            "4\n",
            "16\n"
          ]
        }
      ]
    },
    {
      "cell_type": "code",
      "source": [
        "class Example:\n",
        "  def __init__(self, a) -> None: #this is a constructor, the arrow pointing to none is type hinting, it is not strictly necessary\n",
        "    self.num = a\n",
        "\n",
        "  def PrintIt(self):\n",
        "    print(self.num)\n"
      ],
      "metadata": {
        "id": "a8GD-xj6ban6"
      },
      "execution_count": 47,
      "outputs": []
    },
    {
      "cell_type": "code",
      "source": [
        "b = Example(6)\n",
        "print(type(b))"
      ],
      "metadata": {
        "colab": {
          "base_uri": "https://localhost:8080/"
        },
        "id": "3xJtmbgBcCeC",
        "outputId": "2a1cfc7a-489b-4b39-d5a4-5e2073256267"
      },
      "execution_count": 50,
      "outputs": [
        {
          "output_type": "stream",
          "name": "stdout",
          "text": [
            "<class '__main__.Example'>\n"
          ]
        }
      ]
    },
    {
      "cell_type": "code",
      "source": [
        "b.num"
      ],
      "metadata": {
        "colab": {
          "base_uri": "https://localhost:8080/"
        },
        "id": "8p2mkNehchqm",
        "outputId": "807758e5-a6e3-416d-faf0-cf1d6d905126"
      },
      "execution_count": 53,
      "outputs": [
        {
          "output_type": "execute_result",
          "data": {
            "text/plain": [
              "6"
            ]
          },
          "metadata": {},
          "execution_count": 53
        }
      ]
    },
    {
      "cell_type": "code",
      "source": [
        "# side note, there are no access specifiers in Python, eveything is public\n",
        "b.PrintIt()"
      ],
      "metadata": {
        "colab": {
          "base_uri": "https://localhost:8080/"
        },
        "id": "C4X0ysiccSeZ",
        "outputId": "f86d18fd-865a-486b-bc9e-64ec74dc3b7b"
      },
      "execution_count": 55,
      "outputs": [
        {
          "output_type": "stream",
          "name": "stdout",
          "text": [
            "6\n"
          ]
        }
      ]
    },
    {
      "cell_type": "code",
      "source": [
        "# you can use Jupyter Notebooks like a Linux terminal\n",
        "!ls"
      ],
      "metadata": {
        "colab": {
          "base_uri": "https://localhost:8080/"
        },
        "id": "8JvbX0-XdB-K",
        "outputId": "675c5906-d06f-43ec-c792-cca4cbdfd81f"
      },
      "execution_count": 56,
      "outputs": [
        {
          "output_type": "stream",
          "name": "stdout",
          "text": [
            "sample_data\n"
          ]
        }
      ]
    },
    {
      "cell_type": "code",
      "source": [
        "!pip install numpy # numpy is already installed in the environment by default though"
      ],
      "metadata": {
        "colab": {
          "base_uri": "https://localhost:8080/"
        },
        "id": "x3RwK8XzdWjL",
        "outputId": "5ec6f3fd-b0a6-4cb5-f953-8c864f6828d8"
      },
      "execution_count": 58,
      "outputs": [
        {
          "output_type": "stream",
          "name": "stdout",
          "text": [
            "Requirement already satisfied: numpy in /usr/local/lib/python3.10/dist-packages (1.26.4)\n"
          ]
        }
      ]
    },
    {
      "cell_type": "markdown",
      "source": [
        "Can set up GitHub to"
      ],
      "metadata": {
        "id": "w5xextj2eDD2"
      }
    },
    {
      "cell_type": "code",
      "source": [],
      "metadata": {
        "id": "O05KkJJfdfio"
      },
      "execution_count": null,
      "outputs": []
    }
  ]
}